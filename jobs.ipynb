{
 "cells": [
  {
   "cell_type": "code",
   "execution_count": 10,
   "metadata": {},
   "outputs": [
    {
     "name": "stdout",
     "output_type": "stream",
     "text": [
      "Pinecone API Key: e4ffa4ca-0184-4f76-98a1-0e2ed43c4b84\n",
      "Upserted count: 158\n",
      "{'dimension': 1536,\n",
      " 'index_fullness': 0.0,\n",
      " 'namespaces': {},\n",
      " 'total_vector_count': 0}\n"
     ]
    }
   ],
   "source": [
    "from dotenv import load_dotenv\n",
    "import os\n",
    "import json\n",
    "from pinecone import Pinecone, ServerlessSpec\n",
    "from openai import OpenAI\n",
    "\n",
    "# Load environment variables from .env file\n",
    "load_dotenv()\n",
    "\n",
    "# Fetch the Pinecone API key\n",
    "api_key = os.getenv(\"PINECONE_API_KEY\")\n",
    "if not api_key:\n",
    "    raise ValueError(\"Pinecone API key not found in environment variables\")\n",
    "\n",
    "# Initialize Pinecone\n",
    "pc = Pinecone(api_key=api_key)\n",
    "print(f\"Pinecone API Key: {api_key}\")\n",
    "\n",
    "# Delete the existing index if it exists\n",
    "pc.delete_index(name=\"jobs\")\n",
    "\n",
    "# Create a Pinecone index\n",
    "pc.create_index(\n",
    "    name=\"jobs\",\n",
    "    dimension=1536,\n",
    "    metric=\"cosine\",\n",
    "    spec=ServerlessSpec(cloud=\"aws\", region=\"us-east-1\"),\n",
    ")\n",
    "\n",
    "# Load the review data\n",
    "with open(\"jobs.json\", \"r\") as f:\n",
    "    data = json.load(f)\n",
    "\n",
    "processed_data = []\n",
    "client = OpenAI()\n",
    "\n",
    "# Create embeddings for each review\n",
    "for job in data[\"jobs\"]:\n",
    "    response = client.embeddings.create(\n",
    "        input=job['Job Position'], model=\"text-embedding-3-small\"\n",
    "    )\n",
    "    embedding = response.data[0].embedding\n",
    "    processed_data.append(\n",
    "        {\n",
    "            \"values\": embedding,\n",
    "            \"id\": job[\"Company\"],\n",
    "            \"metadata\": {\n",
    "                \"Job Position\": job[\"Job Position\"],\n",
    "                \"Salary\": job[\"Salary\"],\n",
    "                \"Location\": job[\"Location\"],\n",
    "            }\n",
    "        }\n",
    "    )\n",
    "\n",
    "# Insert the embeddings into the Pinecone index\n",
    "index = pc.Index(\"jobs\")\n",
    "upsert_response = index.upsert(\n",
    "    vectors=processed_data,\n",
    "    namespace=\"ns2\",\n",
    ")\n",
    "print(f\"Upserted count: {upsert_response['upserted_count']}\")\n",
    "\n",
    "# Print index statistics\n",
    "print(index.describe_index_stats())\n"
   ]
  }
 ],
 "metadata": {
  "kernelspec": {
   "display_name": "Python 3",
   "language": "python",
   "name": "python3"
  },
  "language_info": {
   "codemirror_mode": {
    "name": "ipython",
    "version": 3
   },
   "file_extension": ".py",
   "mimetype": "text/x-python",
   "name": "python",
   "nbconvert_exporter": "python",
   "pygments_lexer": "ipython3",
   "version": "3.12.5"
  }
 },
 "nbformat": 4,
 "nbformat_minor": 2
}
